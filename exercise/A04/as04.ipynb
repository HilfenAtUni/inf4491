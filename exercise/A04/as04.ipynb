{
"cells": [
{
"cell_type": "markdown",
"metadata": {},
"source": [
"# Assignment 4\n",
"## Due May 15th"
]
},
{
"cell_type": "code",
"execution_count": 1,
"metadata": {},
"outputs": [],
"source": [
"import warnings\n",
"warnings.filterwarnings('ignore')"
]
},
{
"cell_type": "code",
"execution_count": 2,
"metadata": {},
"outputs": [],
"source": [
"%matplotlib inline\n",
"import matplotlib.pyplot as plt\n",
"import numpy as np\n",
"import pandas as pd\n",
"import math\n",
"\n",
"from sklearn.neighbors import KNeighborsClassifier\n",
"from sklearn.linear_model import Ridge, LinearRegression, Lasso\n",
"from sklearn.datasets import make_classification\n",
"from sklearn.model_selection import GridSearchCV\n",
"\n",
"np.random.seed(42)"
]
},
{
"cell_type": "markdown",
"metadata": {},
"source": [
"Here you would normaly get a \"RuntimeWarning: numpy.dtype size changed, may indicate binary incompatibility\" warning. You do not since we silenced the warning in the first cell. If you are interested read here\n",
"https://stackoverflow.com/questions/40845304/runtimewarning-numpy-dtype-size-changed-may-indicate-binary-incompatibility"
]
},
{
"cell_type": "code",
"execution_count": 3,
"metadata": {},
"outputs": [],
"source": [
"def get_data_x_cube(n):\n",
" \n",
" x = np.random.uniform(0, 4, n)\n",
" X = np.expand_dims(x, axis=-1)\n",
" y = 3*(x-2)**3 + 0.1*np.random.normal(0, 1, n)\n",
" Y = np.expand_dims(y, axis=-1)\n",
" \n",
" return X, Y"
]
},
{
"cell_type": "code",
"execution_count": 4,
"metadata": {},
"outputs": [],
"source": [
"def get_data(n):\n",
" \n",
" x = np.random.uniform(0, 4, n)\n",
" X = np.expand_dims(x, axis=-1)\n",
" y = x + np.random.normal(0, 3, n)\n",
" Y = np.expand_dims(y, axis=-1)\n",
" \n",
" return X, Y"
]
},
{
"cell_type": "markdown",
"metadata": {},
"source": [
"# Exercise 1\n",
"\n",
"### a)"
]
},
{
"cell_type": "code",
"execution_count": 5,
"metadata": {},
"outputs": [],
"source": [
"def MSE(Y_pred, Y):\n",
" return np.mean((Y_pred - Y) ** 2)"
]
},
{
"cell_type": "markdown",
"metadata": {},
"source": [
"### b)"
]
},
{
"cell_type": "code",
"execution_count": 6,
"metadata": {},
"outputs": [],
"source": [
"def k_fold_evaluation_MSE(classifier, X, Y, K=10):\n",
" kMSEs = []\n",
" for k in range(K):\n",
" xtest_set = X[k]\n",
" ytest_set = Y[k]\n",
"\n",
" xtrain_set = [x for x in X if x not in xtest_set]\n",
" xtrain_set = np.asarray(xtrain_set).flatten()\n",
" xtrain_set = xtrain_set.reshape(xtrain_set.shape[0],1)\n",
"\n",
" ytrain_set = [y for y in Y if y not in ytest_set]\n",
" ytrain_set = np.asarray(ytrain_set).flatten()\n",
" ytrain_set = ytrain_set.reshape(ytrain_set.shape[0], 1)\n",
"\n",
" classifier.fit(xtrain_set, ytrain_set)\n",
" Y_pred = classifier.predict(xtest_set)\n",
" kMSE = MSE(Y_pred,ytest_set)\n",
" kMSEs.append(kMSE)\n",
" return np.array(kMSEs).mean()"
]
},
{
"cell_type": "markdown",
"metadata": {},
"source": [
"### c)"
]
},
{
"cell_type": "code",
"execution_count": 7,
"metadata": {},
"outputs": [],
"source": [
"def k_fold_cv_ridge(X, Y, lambdas, K=10):\n",
" n = int(math.ceil(len(X) / float(K)))\n",
" KX = [X[i:i + n] for i in range(0, len(X), n)]\n",
" KY = [Y[i:i + n] for i in range(0, len(Y), n)]\n",
" meanMSEs = []\n",
" for l in lambdas:\n",
" c = Ridge(l)\n",
" meanMSE = k_fold_evaluation_MSE(c, KX, KY, K)\n",
" meanMSEs.append(meanMSE)\n",
" \n",
" return meanMSEs\n",
" "
]
},
{
"cell_type": "markdown",
"metadata": {},
"source": [
"### d)"
]
},
{
"cell_type": "markdown",
"metadata": {},
"source": [
"When we ask to plot the errors please use this convenction red = cv, blue = test. You can see in e) how to do it"
]
},
{
"cell_type": "code",
"execution_count": 8,
"metadata": {},
"outputs": [],
"source": [
"X, Y = get_data_x_cube(300)\n",
"X_train, Y_train = X[:100], Y[:100]\n",
"X_test, Y_test = X[101:], Y[101:]"
]
},
{
"cell_type": "code",
"execution_count": 9,
"metadata": {},
"outputs": [
{
"name": "stdout",
"output_type": "stream",
"text": [
"avg_validation_errors is [13.512247052325714, 13.512292475997555, 13.512788001625083, 13.521806543324747, 13.959857975743859, 28.233357606583496]\n"
]
},
{
"data": {
"image/png": "[encoded data removed]",
"text/plain": [
"<Figure size 432x288 with 1 Axes>"
]
},
"metadata": {},
"output_type": "display_data"
}
],
"source": [
"K=10\n",
"\n",
"lambdas=[0.001, 0.01, 0.1, 1, 10, 100]\n",
"test_MSEs = []\n",
"\n",
"avg_validation_MSEs = k_fold_cv_ridge(X_train, Y_train, lambdas, K)\n",
"\n",
"for l in lambdas:\n",
" c = Ridge(l)\n",
" c.fit(X_test, Y_test)\n",
" test_Y_pred = c.predict(X_test)\n",
" test_mse = MSE(test_Y_pred, Y_test)\n",
" test_MSEs.append(test_mse)\n",
" \n",
"\n",
"print('avg_validation_errors is ', avg_validation_MSEs)\n",
"\n",
"fig = plt.figure()\n",
"l1, = plt.semilogx(lambdas, avg_validation_MSEs, '*-')\n",
"l2, = plt.semilogx(lambdas, test_MSEs, '*-')\n",
"plt.xlabel('lam')\n",
"plt.ylabel('MSE')\n",
"plt.title('exercise 1.d')\n",
"plt.legend(handles = [l1, l2,], labels = ['cross validation', 'MSE on test datas'], loc = 'best')\n",
"plt.show()\n"
]
},
{
"cell_type": "markdown",
"metadata": {},
"source": [
"The MSEs on MSE data sets are always lower than cross validation. When parameters are not so good, the cross validation will produce worse MSE than on test datas."
]
},
{
"cell_type": "markdown",
"metadata": {},
"source": [
"### e)"
]
},
{
"cell_type": "code",
"execution_count": 10,
"metadata": {},
"outputs": [],
"source": [
"X, Y = make_classification(n_samples=2000, n_features=2, n_informative=2, n_redundant=0, n_repeated=0, random_state=420)\n",
"X_train, Y_train = X[:100], Y[:100]\n",
"X_test, Y_test = X[101:], Y[101:]"
]
},
{
"cell_type": "code",
"execution_count": 11,
"metadata": {},
"outputs": [],
"source": [
"ks = np.arange(1,11)\n",
"parameters = {'n_neighbors': ks}\n",
"clf = GridSearchCV(KNeighborsClassifier(weights=\"uniform\"), parameters)\n",
"clf.fit(X_train, Y_train)\n",
"accuracy_cv = clf.cv_results_['mean_train_score']"
]
},
{
"cell_type": "code",
"execution_count": 12,
"metadata": {},
"outputs": [],
"source": [
"accuracy = np.zeros(len(ks))\n",
" \n",
"for i, k in enumerate(ks):\n",
" \n",
" knn = KNeighborsClassifier(n_neighbors=k, weights=\"uniform\")\n",
" knn.fit(X_train, Y_train)\n",
" accuracy[i] = knn.score(X_test, Y_test)"
]
},
{
"cell_type": "code",
"execution_count": 13,
"metadata": {},
"outputs": [
{
"data": {
"text/plain": [
"<matplotlib.collections.PathCollection at 0x1109992e8>"
]
},
"execution_count": 13,
"metadata": {},
"output_type": "execute_result"
},
{
"data": {
"image/png": "[encoded data removed]",
"text/plain": [
"<Figure size 432x288 with 1 Axes>"
]
},
"metadata": {},
"output_type": "display_data"
}
],
"source": [
"plt.figure()\n",
"plt.scatter(ks, accuracy_cv, c=\"red\")\n",
"plt.scatter(ks, accuracy, c=\"blue\")"
]
},
{
"cell_type": "code",
"execution_count": 14,
"metadata": {},
"outputs": [
{
"data": {
"text/plain": [
"(array([ 1. , 0.9701426 , 0.96004159, 0.95499109, 0.95513963,\n",
" 0.95008913, 0.93998812, 0.93493761, 0.93493761, 0.93998812]),\n",
" array([ 0.95260664, 0.92101106, 0.95945234, 0.9626119 , 0.94154818,\n",
" 0.94260137, 0.93575566, 0.93575566, 0.92680358, 0.92785677]))"
]
},
"execution_count": 14,
"metadata": {},
"output_type": "execute_result"
}
],
"source": [
"accuracy_cv, accuracy"
]
},
{
"cell_type": "markdown",
"metadata": {},
"source": [
"The method that using cross validation to choose best parameter is not always right.\n",
"And the result of KNN with cross validation align with it.\n",
"Like the result picture, according to the accuracy on test data, the best K should be 2, but on cross validation, the best K is 9, which are quite different."
]
},
{
"cell_type": "markdown",
"metadata": {},
"source": [
"# Exercise 2"
]
},
{
"cell_type": "code",
"execution_count": 15,
"metadata": {},
"outputs": [
{
"name": "stdout",
"output_type": "stream",
"text": [
"(100, 1)\n"
]
}
],
"source": [
"X, Y = get_data(400)\n",
"X_train, Y_train = X[:100], Y[:100]\n",
"X_test, Y_test = X[101:], Y[101:]\n",
"\n",
"print(X_train.shape)"
]
},
{
"cell_type": "markdown",
"metadata": {},
"source": [
"### a)"
]
},
{
"cell_type": "code",
"execution_count": 16,
"metadata": {},
"outputs": [
{
"name": "stdout",
"output_type": "stream",
"text": [
"MSE between Y_test and the predictions is 9.482445\n"
]
}
],
"source": [
"linear = LinearRegression()\n",
"linear.fit(X_train, Y_train)\n",
"Y_preditct = linear.predict(X_test)\n",
"linear_MSE = MSE(Y_preditct, Y_test)\n",
"print(\"MSE between Y_test and the predictions is %f\"%linear_MSE)"
]
},
{
"cell_type": "markdown",
"metadata": {},
"source": [
"### b)"
]
},
{
"cell_type": "code",
"execution_count": 17,
"metadata": {},
"outputs": [
{
"name": "stdout",
"output_type": "stream",
"text": [
"avg_validation_errors is [8.4273583836678565, 8.427353637714587, 8.4273067793005563, 8.4268972893193173, 8.4278142054614662, 8.5757623626898187]\n",
"best lambda accroding to cv is 1.000000\n",
"test error is [9.2656566283333621, 9.2656566292775846, 9.2656567236584433, 9.2656661206919324, 9.2665661928859553, 9.3276581295394951]\n",
"best lambda accroding to test data is 0.001000\n"
]
},
{
"data": {
"image/png": "[encoded data removed]",
"text/plain": [
"<Figure size 432x288 with 1 Axes>"
]
},
"metadata": {},
"output_type": "display_data"
}
],
"source": [
"K=10\n",
"\n",
"lambdas=[0.001, 0.01, 0.1, 1, 10, 100]\n",
"test_MSEs = []\n",
"\n",
"avg_validation_MSEs = k_fold_cv_ridge(X_train, Y_train, lambdas, K)\n",
"cv_index = avg_validation_MSEs.index(min(avg_validation_MSEs))\n",
"best_cv_para = lambdas[cv_index]\n",
"print('avg_validation_errors is ', avg_validation_MSEs)\n",
"print('best lambda accroding to cv is %f'%best_cv_para)\n",
"\n",
"for l in lambdas:\n",
" c = Ridge(l)\n",
" c.fit(X_test, Y_test)\n",
" test_Y_pred = c.predict(X_test)\n",
" test_mse = MSE(test_Y_pred, Y_test)\n",
" test_MSEs.append(test_mse)\n",
" \n",
"test_index = test_MSEs.index(min(test_MSEs))\n",
"best_test_para = lambdas[test_index]\n",
"print('test error is ', test_MSEs)\n",
"print('best lambda accroding to test data is %f'%best_test_para)\n",
"\n",
"fig = plt.figure()\n",
"l1, = plt.semilogx(lambdas, avg_validation_MSEs, '*-')\n",
"l2, = plt.semilogx(lambdas, test_MSEs, '*-')\n",
"plt.xlabel('lam')\n",
"plt.ylabel('average validation errors')\n",
"plt.title('ridge regression')\n",
"plt.legend(handles = [l1, l2,], labels = ['cross validation', 'MSE on test datas'], loc = 'best')\n",
"plt.show()\n"
]
},
{
"cell_type": "markdown",
"metadata": {},
"source": [
"In this question, the cross validation can not select the best possible λ."
]
},
{
"cell_type": "markdown",
"metadata": {},
"source": [
"### c)"
]
},
{
"cell_type": "code",
"execution_count": 18,
"metadata": {},
"outputs": [
{
"name": "stdout",
"output_type": "stream",
"text": [
"avg_validation_errors is [9.81078432534383, 9.7979699798962709, 9.6771178715865069, 9.1738496719903768, 9.1657141667735367, 9.1657141667735367]\n",
"best lambda accroding to cv is 10.000000\n",
"test error is [12.566892532519873, 12.547354631984804, 12.358377573360267, 11.108801659726804, 10.917363611903159, 10.917363611903159]\n",
"best lambda accroding to test data is 10.000000\n"
]
},
{
"data": {
"image/png": "[encoded data removed]",
"text/plain": [
"<Figure size 432x288 with 1 Axes>"
]
},
"metadata": {},
"output_type": "display_data"
}
],
"source": [
"def k_fold_cv_lasso(X, Y, lambdas, K=10):\n",
" n = int(math.ceil(len(X) / float(K)))\n",
" KX = [X[i:i + n] for i in range(0, len(X), n)]\n",
" KY = [Y[i:i + n] for i in range(0, len(Y), n)]\n",
" meanMSEs = []\n",
" for l in lambdas:\n",
" c = Lasso(l)\n",
" meanMSE = k_fold_evaluation_MSE(c, KX, KY, K)\n",
" meanMSEs.append(meanMSE)\n",
" \n",
" return meanMSEs\n",
"\n",
"K=10\n",
"\n",
"lambdas=[0.001, 0.01, 0.1, 1, 10, 100]\n",
"test_MSEs = []\n",
"\n",
"avg_validation_MSEs = k_fold_cv_lasso(X_train, Y_train, lambdas, K)\n",
"cv_index = avg_validation_MSEs.index(min(avg_validation_MSEs))\n",
"best_cv_para = lambdas[cv_index]\n",
"print('avg_validation_errors is ', avg_validation_MSEs)\n",
"print('best lambda accroding to cv is %f'%best_cv_para)\n",
"\n",
"for l in lambdas:\n",
" c = Lasso(l)\n",
" c.fit(X_test, Y_test)\n",
" test_Y_pred = c.predict(X_test)\n",
" test_mse = MSE(test_Y_pred, Y_test)\n",
" test_MSEs.append(test_mse)\n",
" \n",
"test_index = test_MSEs.index(min(test_MSEs))\n",
"best_test_para = lambdas[test_index]\n",
"print('test error is ', test_MSEs)\n",
"print('best lambda accroding to test data is %f'%best_test_para)\n",
"\n",
"fig = plt.figure()\n",
"l1, = plt.semilogx(lambdas, avg_validation_MSEs, '*-')\n",
"l2, = plt.semilogx(lambdas, test_MSEs, '*-')\n",
"plt.xlabel('lam')\n",
"plt.ylabel('MSE')\n",
"plt.title('lasso regression')\n",
"plt.legend(handles = [l1, l2,], labels = ['cross validation', 'MSE on test datas'], loc = 'best')\n",
"plt.show()\n"
]
},
{
"cell_type": "markdown",
"metadata": {},
"source": [
"In this question, the cross validation can select the best possible λ."
]
},
{
"cell_type": "markdown",
"metadata": {},
"source": [
"### d) Discuss what you see in the graphs, which regressions works best? Does changing λ do what you expect?"
]
},
{
"cell_type": "markdown",
"metadata": {},
"source": [
"Generally the ridge regression has an better performance. Because ridge has lower MSE values.\n",
"\n",
"In Ridge regression, between 0.001 and 10, there is no big difference with the change of lambda.\n",
"Compared to lasso regression, the change is much more remarkable.\n"
]
},
{
"cell_type": "code",
"execution_count": null,
"metadata": {},
"outputs": [],
"source": []
}
],
"metadata": {
"kernelspec": {
"display_name": "Python 3",
"language": "python",
"name": "python3"
},
"language_info": {
"codemirror_mode": {
"name": "ipython",
"version": 3
},
"file_extension": ".py",
"mimetype": "text/x-python",
"name": "python",
"nbconvert_exporter": "python",
"pygments_lexer": "ipython3",
"version": "3.6.0"
}
},
"nbformat": 4,
"nbformat_minor": 2
}
