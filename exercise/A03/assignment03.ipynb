{
 "cells": [
  {
   "cell_type": "markdown",
   "metadata": {},
   "source": [
    "# Assignement 3\n",
    "## Due May 8th"
   ]
  },
  {
   "cell_type": "markdown",
   "metadata": {},
   "source": [
    "## Exercise 1\n",
    "\n",
    "### a\n",
    "\n",
    "$\\because X\\ \\in R^3\\ and\\ a \\in R^3 f(X)=a^T X \\\\ \\frac{\\partial f}{\\partial X} = \\begin{bmatrix} \\frac{\\partial f}{\\partial X_1} \\\\ \\frac{\\partial f}{\\partial X_2} \\\\ \\frac{\\partial f}{\\partial X_3}\\end{bmatrix}\\\\\\frac{\\partial f}{\\partial X_k} = \\frac{\\partial}{\\partial X_k}\\sum_{i=1}^{n} a^T_i X_i = a_k^T\\\\ \\therefore \\frac{\\partial f}{\\partial X} = \\begin{bmatrix} a_1\\\\a_2\\\\a_3 \\end{bmatrix} = \\begin{bmatrix}2\\\\-1\\\\5\\end{bmatrix}$\n",
    "\n",
    "### b\n",
    "\n",
    "$\\because f(X)=X^TAX,\\ X\\in R^2,\\ A\\in R^{2x2}\\\\ and \\frac{\\partial f}{\\partial X} = \\begin{bmatrix} \\frac{\\partial f}{\\partial X_{11}} \\frac{\\partial f}{\\partial X_{12}}\\\\ \\frac{\\partial f}{\\partial X_{21}} \\frac{\\partial f}{\\partial X_{22}} \\end{bmatrix} \\\\ f(X) = X^TAX = \\sum_{i=1}^{n}\\sum_{j=1}^{n}A_{ij}X_iX_j$\n",
    "\n",
    "$\\therefore \\frac{\\partial f}{\\partial X_k} = \\frac{\\partial}{\\partial X_k}\\sum_{i=1}^{n}\\sum_{j=1}^{n}A_{ij}X_iX_j \\\\= \\frac{\\partial}{\\partial X_k}[\\sum_{i\\neq k}\\sum_{j\\neq k}A_{ij}X_i X_j + \\sum_{i\\neq k} A_{ik}X_iX_k + \\sum_{j\\neq k} A_{kj}X_k X_j + A_{kk}X_k^2]\\\\ = \\sum_{i\\neq k}A_{ik}X_i + \\sum_{j\\neq k}A_{kj}X_j + 2A_{kk}X_k \\\\ = \\sum_{i=1}^n A_{ik}X_i + \\sum_{j=1}^{n}A_{kj}X_j$\n",
    "\n",
    "$\\therefore\\frac{\\partial f}{\\partial X} = \\begin{bmatrix} \\frac{\\partial f}{\\partial X_1} \\\\ \\frac{\\partial f}{\\partial X_2}\\end{bmatrix} \\\\\n",
    "= \\begin{bmatrix} \\sum_{i=1}^2A_{i1}X_i+\\sum_{j=1}^{2}A_{1j}X_j \\\\ \\sum_{i=1}A_{i2}X_i + \\sum_{j=1}^{2}A_{2j}X_j \\end{bmatrix} \\\\\n",
    "= \\begin{bmatrix} A_{11}X_1+A_{21}X_2+A_{11}X_1 + A_{12}X_2 \\\\ A_{12}X_1+A_{22}X_2+A_{21}X_1+A_{22}X_2 \\end{bmatrix} \\\\\n",
    "= \\begin{bmatrix}2A_{11}X_1+A_{21}X_2+A_{12}X_2 \\\\ A_{12}X_1+A_{21}X_1+2A_{22}X_2 \\end{bmatrix} \\\\\n",
    "= \\begin{bmatrix} 2X_1+7X_2 \\\\ 7X_1+6X_2 \\end{bmatrix}$\n",
    "\n",
    "## Exercise 2\n",
    "\n",
    "### a\n",
    "\n",
    "$\\because$ $X^TX$ is $S_{+}^{n}$, $X \\in R^{n x d}$, $X^T\\in R^{dxn}$\n",
    "\n",
    "$\\therefore X^TX$ is symmetric matrix\n",
    "\n",
    "$X^T X=(X^T X)^T = X X^T\\in R^{nxn} = R^{dxd}$\n",
    "\n",
    "$\\therefore n=d$\n",
    "\n",
    "$rank(X^TX) \\leq min(rank(X^T), rank(X))$\n",
    "\n",
    "$\\because rank(X^T) = rank(X)$\n",
    "\n",
    "$\\therefore rank(X^TX) = rank(X)$\n",
    "\n",
    "\n",
    "\n",
    "### b\n",
    "\n",
    "\n",
    "### c\n",
    "\n",
    "\n",
    "## Exercise 3\n",
    "\n",
    "### a\n",
    "\n",
    "\n",
    "### b\n",
    "\n",
    "\n",
    "### c\n",
    "\n",
    "\n",
    "\n"
   ]
  },
  {
   "cell_type": "code",
   "execution_count": 1,
   "metadata": {},
   "outputs": [],
   "source": [
    "% matplotlib inline\n",
    "import matplotlib.pyplot as plt\n",
    "import numpy as np\n",
    "import pandas as pd\n",
    "\n",
    "np.random.seed(42)"
   ]
  },
  {
   "cell_type": "markdown",
   "metadata": {},
   "source": [
    "## Exercise 4"
   ]
  },
  {
   "cell_type": "code",
   "execution_count": 2,
   "metadata": {},
   "outputs": [],
   "source": [
    "def get_data(n):\n",
    "        \n",
    "    x = np.random.uniform(0,2, n)\n",
    "    X = np.expand_dims(x, axis=-1)\n",
    "    # \\phi ~ N(0,2)\n",
    "    y = 2 * np.sin(2*x) + 0.1*np.random.normal(0, 2, n)\n",
    "    Y = np.expand_dims(y, axis=-1)\n",
    "\n",
    "    return X, Y"
   ]
  },
  {
   "cell_type": "code",
   "execution_count": 3,
   "metadata": {},
   "outputs": [],
   "source": [
    "X, Y = get_data(100)"
   ]
  },
  {
   "cell_type": "markdown",
   "metadata": {},
   "source": [
    "### a)"
   ]
  },
  {
   "cell_type": "code",
   "execution_count": 9,
   "metadata": {},
   "outputs": [
    {
     "data": {
      "image/png": "[encoded data removed]",
      "text/plain": [
       "<Figure size 432x288 with 1 Axes>"
      ]
     },
     "metadata": {},
     "output_type": "display_data"
    }
   ],
   "source": [
    "a = [2, -1, 5];\n",
    "plt.scatter(X, Y, c='blue')\n",
    "plt.xlim([-.5, 2.5])\n",
    "plt.ylim([-2, 3])\n",
    "plt.show()"
   ]
  },
  {
   "cell_type": "markdown",
   "metadata": {},
   "source": [
    "### b)"
   ]
  },
  {
   "cell_type": "code",
   "execution_count": null,
   "metadata": {},
   "outputs": [],
   "source": [
    "def ridge_regression(X, Y, lam=1):\n",
    "    pass"
   ]
  },
  {
   "cell_type": "markdown",
   "metadata": {},
   "source": [
    "### c)"
   ]
  },
  {
   "cell_type": "code",
   "execution_count": null,
   "metadata": {},
   "outputs": [],
   "source": []
  },
  {
   "cell_type": "markdown",
   "metadata": {},
   "source": [
    "### d)"
   ]
  },
  {
   "cell_type": "code",
   "execution_count": null,
   "metadata": {},
   "outputs": [],
   "source": []
  },
  {
   "cell_type": "markdown",
   "metadata": {},
   "source": [
    "### e)"
   ]
  },
  {
   "cell_type": "code",
   "execution_count": null,
   "metadata": {},
   "outputs": [],
   "source": [
    "X_test, Y_test = get_data(20)"
   ]
  },
  {
   "cell_type": "markdown",
   "metadata": {},
   "source": [
    "Linear interpolation"
   ]
  },
  {
   "cell_type": "code",
   "execution_count": null,
   "metadata": {},
   "outputs": [],
   "source": []
  },
  {
   "cell_type": "markdown",
   "metadata": {},
   "source": [
    "Ridge interpolation"
   ]
  },
  {
   "cell_type": "code",
   "execution_count": null,
   "metadata": {},
   "outputs": [],
   "source": []
  },
  {
   "cell_type": "markdown",
   "metadata": {},
   "source": [
    "### f)"
   ]
  },
  {
   "cell_type": "code",
   "execution_count": null,
   "metadata": {},
   "outputs": [],
   "source": [
    "X = np.random.uniform(0,2, (100, 2))\n",
    "Y = 2 * (X[:, 0]**2) + X[:, 1] + 1 + 0.1 * np.random.normal(0, 1, 100)"
   ]
  },
  {
   "cell_type": "code",
   "execution_count": null,
   "metadata": {},
   "outputs": [],
   "source": []
  }
 ],
 "metadata": {
  "kernelspec": {
   "display_name": "Python 3",
   "language": "python",
   "name": "python3"
  },
  "language_info": {
   "codemirror_mode": {
    "name": "ipython",
    "version": 3
   },
   "file_extension": ".py",
   "mimetype": "text/x-python",
   "name": "python",
   "nbconvert_exporter": "python",
   "pygments_lexer": "ipython3",
   "version": "3.5.2"
  }
 },
 "nbformat": 4,
 "nbformat_minor": 2
}
